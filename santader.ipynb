{
  "nbformat": 4,
  "nbformat_minor": 0,
  "metadata": {
    "colab": {
      "name": "santader.ipynb",
      "version": "0.3.2",
      "views": {},
      "default_view": {},
      "provenance": [],
      "collapsed_sections": []
    },
    "kernelspec": {
      "name": "python2",
      "display_name": "Python 2"
    },
    "accelerator": "GPU"
  },
  "cells": [
    {
      "metadata": {
        "id": "NyqGSDw43-EJ",
        "colab_type": "code",
        "colab": {
          "autoexec": {
            "startup": false,
            "wait_interval": 0
          },
          "base_uri": "https://localhost:8080/",
          "height": 34
        },
        "outputId": "b3bb5fc8-5b40-4c8e-dca3-98463b309e02",
        "executionInfo": {
          "status": "ok",
          "timestamp": 1529297357602,
          "user_tz": 300,
          "elapsed": 436,
          "user": {
            "displayName": "Bhaskar Dutta",
            "photoUrl": "//lh3.googleusercontent.com/-j61mCPFpWjA/AAAAAAAAAAI/AAAAAAAACOk/xDutwS9Ks2I/s50-c-k-no/photo.jpg",
            "userId": "102593416601078579352"
          }
        }
      },
      "cell_type": "code",
      "source": [
        "import csv\n",
        "import datetime\n",
        "\n",
        "import pandas as pd\n",
        "import numpy as np\n",
        "import matplotlib.pyplot as plt\n",
        "import xgboost as xgb\n",
        "from sklearn import preprocessing, ensemble\n",
        "\n",
        "from xgboost.sklearn import XGBClassifier\n",
        "from sklearn import cross_validation, metrics   #Additional scklearn functions\n",
        "from sklearn.grid_search import GridSearchCV   #Perforing grid search\n",
        "\n",
        "%pylab inline"
      ],
      "execution_count": 24,
      "outputs": [
        {
          "output_type": "stream",
          "text": [
            "Populating the interactive namespace from numpy and matplotlib\n"
          ],
          "name": "stdout"
        }
      ]
    },
    {
      "metadata": {
        "id": "Ky37VsK2GjDO",
        "colab_type": "code",
        "colab": {
          "autoexec": {
            "startup": false,
            "wait_interval": 0
          }
        }
      },
      "cell_type": "code",
      "source": [
        "from xgboost.sklearn import XGBClassifier\n",
        "from sklearn import cross_validation, metrics   #Additional scklearn functions\n",
        "from sklearn.grid_search import GridSearchCV   #Perforing grid search\n"
      ],
      "execution_count": 0,
      "outputs": []
    },
    {
      "metadata": {
        "id": "ToxerXbX8Dnw",
        "colab_type": "code",
        "colab": {
          "autoexec": {
            "startup": false,
            "wait_interval": 0
          }
        }
      },
      "cell_type": "code",
      "source": [
        "!pip install -U -q PyDrive\n",
        "\n",
        "from pydrive.auth import GoogleAuth\n",
        "from pydrive.drive import GoogleDrive\n",
        "from google.colab import auth\n",
        "from oauth2client.client import GoogleCredentials\n",
        "\n",
        "# 1. Authenticate and create the PyDrive client.\n",
        "auth.authenticate_user()\n",
        "gauth = GoogleAuth()\n",
        "gauth.credentials = GoogleCredentials.get_application_default()\n",
        "drive = GoogleDrive(gauth)\n",
        "\n"
      ],
      "execution_count": 0,
      "outputs": []
    },
    {
      "metadata": {
        "id": "TdeVHyr38gBy",
        "colab_type": "code",
        "colab": {
          "autoexec": {
            "startup": false,
            "wait_interval": 0
          }
        }
      },
      "cell_type": "code",
      "source": [
        "import io\n",
        "from googleapiclient.http import MediaIoBaseDownload\n",
        "from google.colab import files\n",
        "from pydrive.drive import GoogleDrive"
      ],
      "execution_count": 0,
      "outputs": []
    },
    {
      "metadata": {
        "id": "0KaniSjXBbVY",
        "colab_type": "code",
        "colab": {
          "autoexec": {
            "startup": false,
            "wait_interval": 0
          }
        }
      },
      "cell_type": "code",
      "source": [
        "trainrawfileid = \"1PJ6E2J-oFlh-GFIwkeMfVBy3mRRnzqtP\"\n",
        "testrawfileid = \"1bI4M05xME2KC_YyJ0ogaqRZWPYiMr199\"\n",
        "\n",
        "trainfileid = \"1gReV8BOf55n2uV_10UTtPACLUPrZIrsc\"\n",
        "testfileid = \"1usmR1pG9l-dvs9VCb54vFKNrIZeW4hAg\"\n",
        "trainflnm = \"train_clean.csv\"\n",
        "testflnm = \"test_clean.csv\"\n",
        "outflnm = 'xgb_new.csv'"
      ],
      "execution_count": 0,
      "outputs": []
    },
    {
      "metadata": {
        "id": "oPFjxTPwOWQj",
        "colab_type": "code",
        "colab": {
          "autoexec": {
            "startup": false,
            "wait_interval": 0
          }
        }
      },
      "cell_type": "code",
      "source": [
        "train_download = drive.CreateFile({'id': trainfileid})\n",
        "test_download = drive.CreateFile({'id': testfileid})\n",
        "\n"
      ],
      "execution_count": 0,
      "outputs": []
    },
    {
      "metadata": {
        "id": "oZ7qjS24WVvv",
        "colab_type": "code",
        "colab": {
          "autoexec": {
            "startup": false,
            "wait_interval": 0
          }
        }
      },
      "cell_type": "code",
      "source": [
        "train_download.GetContentFile(trainflnm)\n",
        "test_download.GetContentFile(testflnm)"
      ],
      "execution_count": 0,
      "outputs": []
    },
    {
      "metadata": {
        "id": "O7bb7o1cHvq9",
        "colab_type": "code",
        "colab": {
          "autoexec": {
            "startup": false,
            "wait_interval": 0
          }
        }
      },
      "cell_type": "code",
      "source": [
        "cat_cols = [\"ind_empleado\",\"sexo\",\"ind_nuevo\",\"indrel\",\"indrel_1mes\",\"tiprel_1mes\",\n",
        "          \"indresi\",\"indext\",\"ind_actividad_cliente\",\"segmento\",\"pais_residencia\",\"canal_entrada\"]\n",
        "\n",
        "target_cols = ['ind_ahor_fin_ult1','ind_aval_fin_ult1','ind_cco_fin_ult1','ind_cder_fin_ult1','ind_cno_fin_ult1','ind_ctju_fin_ult1','ind_ctma_fin_ult1','ind_ctop_fin_ult1','ind_ctpp_fin_ult1','ind_deco_fin_ult1','ind_deme_fin_ult1','ind_dela_fin_ult1','ind_ecue_fin_ult1','ind_fond_fin_ult1','ind_hip_fin_ult1','ind_plan_fin_ult1','ind_pres_fin_ult1','ind_reca_fin_ult1','ind_tjcr_fin_ult1','ind_valo_fin_ult1','ind_viv_fin_ult1','ind_nomina_ult1','ind_nom_pens_ult1','ind_recibo_ult1']\n",
        "target_cols = target_cols[2:]\n"
      ],
      "execution_count": 0,
      "outputs": []
    },
    {
      "metadata": {
        "id": "oPcF84FJojcv",
        "colab_type": "code",
        "colab": {
          "autoexec": {
            "startup": false,
            "wait_interval": 0
          }
        }
      },
      "cell_type": "code",
      "source": [
        "df = pd.read_csv(trainflnm, usecols=cat_cols )\n"
      ],
      "execution_count": 0,
      "outputs": []
    },
    {
      "metadata": {
        "id": "-p_dIbFgrBxr",
        "colab_type": "code",
        "colab": {
          "autoexec": {
            "startup": false,
            "wait_interval": 0
          }
        }
      },
      "cell_type": "code",
      "source": [
        "predictor_dict = {}\n",
        "for cats_ in cat_cols:\n",
        "    df_ = df.loc[df[cats_].notnull(),cats_]\n",
        "    dic_ = dict(enumerate(sorted(df_.unique())))\n",
        "    indic_ = {v: k for k, v in dic_.iteritems()}\n",
        "    predictor_dict[cats_] = indic_"
      ],
      "execution_count": 0,
      "outputs": []
    },
    {
      "metadata": {
        "id": "2vYqctpuF1KZ",
        "colab_type": "code",
        "colab": {
          "autoexec": {
            "startup": false,
            "wait_interval": 0
          }
        }
      },
      "cell_type": "code",
      "source": [
        "def getTarget(row):\n",
        "\ttlist = []\n",
        "\tfor col in target_cols:\n",
        "\t\tif row[col].strip() in ['', 'NA']:\n",
        "\t\t\ttarget = 0\n",
        "\t\telse:\n",
        "\t\t\ttarget = int(float(row[col]))\n",
        "\t\ttlist.append(target)\n",
        "\treturn tlist\n",
        "\n",
        "def getIndex(row, col):\n",
        "    val = row[col].strip()\n",
        "    #strtype_ = strType(val) \n",
        "    if col in [\"ind_actividad_cliente\",\"ind_nuevo\",\"indrel\",\"indrel_1mes\"]:\n",
        "        val_ = float(val)\n",
        "        valnn_ = -1\n",
        "    else:\n",
        "        val_ = val\n",
        "        valnn_ = '0'\n",
        "    ind = \"\"\n",
        "    try:\n",
        "        if val not in ['','NA']:\n",
        "            ind = predictor_dict[col][val_]\n",
        "        else:\n",
        "            ind = valnn_ #predictor_dict[col][-99]\n",
        "    except:\n",
        "        print(col, val_)\n",
        "        \n",
        "    return ind"
      ],
      "execution_count": 0,
      "outputs": []
    },
    {
      "metadata": {
        "id": "bTleacK-F2st",
        "colab_type": "code",
        "colab": {
          "autoexec": {
            "startup": false,
            "wait_interval": 0
          }
        }
      },
      "cell_type": "code",
      "source": [
        "def processData(in_file_name, cust_dict):\n",
        "\tx_vars_list = []\n",
        "\ty_vars_list = []\n",
        "\tfor row in csv.DictReader(in_file_name):\n",
        "\t\t# use only the four months as specified by breakfastpirate #\n",
        "\t\tif row['fecha_dato'] not in ['2015-05-28', '2015-06-28', '2016-05-28', '2016-06-28']:\n",
        "\t\t\tcontinue\n",
        "\n",
        "\t\tcust_id = int(row['ncodpers'])\n",
        "\t\tif row['fecha_dato'] in ['2015-05-28', '2016-05-28']:\t\n",
        "\t\t\ttarget_list = getTarget(row)\n",
        "\t\t\tcust_dict[cust_id] =  target_list[:]\n",
        "\t\t\tcontinue\n",
        "\n",
        "\t\tx_vars = []\n",
        "\t\tfor col in cat_cols:\n",
        "\t\t\tx_vars.append( getIndex(row, col) )\n",
        "\t\tx_vars.append(row['age']) \n",
        "\t\tx_vars.append(row['antiguedad']) \n",
        "\t\tx_vars.append(row['renta'])\n",
        "\n",
        "\t\tif row['fecha_dato'] == '2016-06-28':\n",
        "\t\t\tprev_target_list = cust_dict.get(cust_id, [0]*22)\n",
        "\t\t\tx_vars_list.append(x_vars + prev_target_list)\n",
        "\t\telif row['fecha_dato'] == '2015-06-28':\n",
        "\t\t\tprev_target_list = cust_dict.get(cust_id, [0]*22)\n",
        "\t\t\ttarget_list = getTarget(row)\n",
        "\t\t\tnew_products = [max(x1 - x2,0) for (x1, x2) in zip(target_list, prev_target_list)]\n",
        "\t\t\tif sum(new_products) > 0:\n",
        "\t\t\t\tfor ind, prod in enumerate(new_products):\n",
        "\t\t\t\t\tif prod>0:\n",
        "\t\t\t\t\t\tassert len(prev_target_list) == 22\n",
        "\t\t\t\t\t\tx_vars_list.append(x_vars+prev_target_list)\n",
        "\t\t\t\t\t\ty_vars_list.append(ind)\n",
        "\n",
        "\treturn x_vars_list, y_vars_list, cust_dict"
      ],
      "execution_count": 0,
      "outputs": []
    },
    {
      "metadata": {
        "id": "K8jXcBD3F-P5",
        "colab_type": "code",
        "colab": {
          "autoexec": {
            "startup": false,
            "wait_interval": 0
          },
          "base_uri": "https://localhost:8080/",
          "height": 102
        },
        "outputId": "8b2f266e-3328-4113-9035-465be921e68f",
        "executionInfo": {
          "status": "ok",
          "timestamp": 1529298487684,
          "user_tz": 300,
          "elapsed": 160118,
          "user": {
            "displayName": "Bhaskar Dutta",
            "photoUrl": "//lh3.googleusercontent.com/-j61mCPFpWjA/AAAAAAAAAAI/AAAAAAAACOk/xDutwS9Ks2I/s50-c-k-no/photo.jpg",
            "userId": "102593416601078579352"
          }
        }
      },
      "cell_type": "code",
      "source": [
        "start_time = datetime.datetime.now()\n",
        "train_file =  open(trainflnm)\n",
        "x_vars_list, y_vars_list, cust_dict = processData(train_file, {})\n",
        "train_X = np.array(x_vars_list)\n",
        "train_y = np.array(y_vars_list)\n",
        "print(np.unique(train_y))\n",
        "del x_vars_list, y_vars_list\n",
        "train_file.close()\n",
        "print(train_X.shape, train_y.shape)\n",
        "print(datetime.datetime.now()-start_time)\n",
        "\n",
        "test_file = open(testflnm)\n",
        "x_vars_list, y_vars_list, cust_dict = processData(test_file, cust_dict)\n",
        "test_X = np.array(x_vars_list)\n",
        "del x_vars_list\n",
        "test_file.close()\n",
        "print(test_X.shape)\n",
        "print(datetime.datetime.now()-start_time)"
      ],
      "execution_count": 39,
      "outputs": [
        {
          "output_type": "stream",
          "text": [
            "[ 0  1  2  3  4  5  6  7  8  9 10 11 12 13 14 15 16 17 18 19 20 21]\n",
            "((45664, 37), (45664,))\n",
            "0:02:21.618570\n",
            "(928621, 37)\n",
            "0:02:39.883709\n"
          ],
          "name": "stdout"
        }
      ]
    },
    {
      "metadata": {
        "id": "3F6pebW6HNbH",
        "colab_type": "code",
        "colab": {
          "autoexec": {
            "startup": false,
            "wait_interval": 0
          }
        }
      },
      "cell_type": "code",
      "source": [
        "def modelfit(alg, trainX, trainY,useTrainCV=True, cv_folds=5, early_stopping_rounds=50):\n",
        "    \n",
        "    if useTrainCV:\n",
        "        xgb_param = alg.get_xgb_params()\n",
        "        print(xgb_param)\n",
        "        xgtrain = xgb.DMatrix(trainX, label=trainY)\n",
        "        cvresult = xgb.cv(xgb_param, xgtrain, num_boost_round=alg.get_params()['n_estimators'], nfold=cv_folds,\n",
        "            metrics='mlogloss', early_stopping_rounds=early_stopping_rounds)\n",
        "        alg.set_params(n_estimators=cvresult.shape[0])\n",
        "    \n",
        "    #Fit the algorithm on the data\n",
        "    alg.fit(trainX, trainY,eval_metric='mlogloss')\n",
        "        \n",
        "    #Predict training set:\n",
        "    dtrain_predictions = alg.predict(trainX)\n",
        "    dtrain_predprob = alg.predict_proba(trainX)\n",
        "    \n",
        "    #Print model report:\n",
        "    print \"\\nModel Report\"\n",
        "    print \"Accuracy : %.4g\" % metrics.accuracy_score(trainY, dtrain_predictions)\n",
        "    print \"log loss (Train): %f\" % metrics.log_loss(trainY, dtrain_predprob)\n",
        "                    \n",
        "    feat_imp = pd.Series(alg.get_booster().get_fscore()).sort_values(ascending=False)\n",
        "    feat_imp.plot(kind='bar', title='Feature Importances')\n",
        "    plt.ylabel('Feature Importance Score')\n",
        "    return alg"
      ],
      "execution_count": 0,
      "outputs": []
    },
    {
      "metadata": {
        "id": "eijxrRB8HW1U",
        "colab_type": "code",
        "colab": {
          "autoexec": {
            "startup": false,
            "wait_interval": 0
          }
        }
      },
      "cell_type": "code",
      "source": [
        "predictors = cat_cols + ['age','antiguedad','renta']\n",
        "\n",
        "xgbt = XGBClassifier(\n",
        " learning_rate =0.1,\n",
        " n_estimators=200,\n",
        " max_depth=5,\n",
        " min_child_weight=1,\n",
        " num_class = 22,\n",
        " gamma=0,\n",
        " subsample=0.8,\n",
        " colsample_bytree=0.8,\n",
        " objective=  'multi:softprob',\n",
        " nthread=4,\n",
        " scale_pos_weight=1,\n",
        " seed=0)\n"
      ],
      "execution_count": 0,
      "outputs": []
    },
    {
      "metadata": {
        "id": "VDxcFWVdHd0u",
        "colab_type": "code",
        "colab": {
          "autoexec": {
            "startup": false,
            "wait_interval": 0
          },
          "base_uri": "https://localhost:8080/",
          "height": 54
        },
        "outputId": "22ea18bb-74d4-41b5-daad-e8cd21361431"
      },
      "cell_type": "code",
      "source": [
        "model = modelfit(xgbt, train_X, train_y)"
      ],
      "execution_count": 0,
      "outputs": [
        {
          "output_type": "stream",
          "text": [
            "{'reg_alpha': 0, 'colsample_bylevel': 1, 'scale_pos_weight': 1, 'learning_rate': 0.1, 'max_delta_step': 0, 'base_score': 0.5, 'n_estimators': 200, 'seed': 0, 'num_class': 22, 'booster': 'gbtree', 'colsample_bytree': 0.8, 'silent': 1, 'missing': None, 'nthread': 4, 'min_child_weight': 1, 'subsample': 0.8, 'reg_lambda': 1, 'objective': 'multi:softprob', 'max_depth': 5, 'gamma': 0}"
          ],
          "name": "stdout"
        }
      ]
    },
    {
      "metadata": {
        "id": "PII0S6J1WOQ7",
        "colab_type": "code",
        "colab": {
          "autoexec": {
            "startup": false,
            "wait_interval": 0
          }
        }
      },
      "cell_type": "code",
      "source": [
        "#Hyper parameter tuning\n",
        "\n",
        "param_test1 = {\n",
        " 'max_depth':range(3,10,2),\n",
        " 'min_child_weight':range(1,6,2)\n",
        "}\n",
        "gsearch1 = GridSearchCV(estimator = XGBClassifier( learning_rate =0.1, n_estimators=140, max_depth=5,\n",
        " min_child_weight=1, gamma=0, subsample=0.8, colsample_bytree=0.8,num_class = 22,\n",
        " objective= 'multi:softprob', nthread=4, scale_pos_weight=1, seed=27), \n",
        " param_grid = param_test1, scoring='accuracy',n_jobs=4,iid=False, cv=5)\n",
        "\n",
        "gsearch1.fit(train_X,train_y)\n",
        "\n",
        "gsearch1.grid_scores_, gsearch1.best_params_, gsearch1.best_score_\n"
      ],
      "execution_count": 0,
      "outputs": []
    },
    {
      "metadata": {
        "id": "AL_OutGOKhOj",
        "colab_type": "code",
        "colab": {
          "autoexec": {
            "startup": false,
            "wait_interval": 0
          }
        }
      },
      "cell_type": "code",
      "source": [
        "print(\"Predicting..\")\n",
        "xgtest = xgb.DMatrix(test_X)\n",
        "preds = model.predict(xgtest)\n",
        "del test_X, xgtest\n",
        "print(datetime.datetime.now()-start_time)\n",
        "\n",
        "print(\"Getting the top products..\")\n",
        "target_cols = np.array(target_cols)\n",
        "preds = np.argsort(preds, axis=1)\n",
        "preds = np.fliplr(preds)[:,:7]\n",
        "test_id = np.array(pd.read_csv(testflnm, usecols=['ncodpers'])['ncodpers'])\n",
        "final_preds = [\" \".join(list(target_cols[pred])) for pred in preds]\n",
        "out_df = pd.DataFrame({'ncodpers':test_id, 'added_products':final_preds})\n",
        "out_df.to_csv(outflnm, index=False)\n",
        "print(datetime.datetime.now()-start_time)frffrrf"
      ],
      "execution_count": 0,
      "outputs": []
    },
    {
      "metadata": {
        "id": "DNjQPmnga1_r",
        "colab_type": "code",
        "colab": {
          "autoexec": {
            "startup": false,
            "wait_interval": 0
          },
          "base_uri": "https://localhost:8080/",
          "height": 1969
        },
        "outputId": "612b3052-d6ea-4135-edd5-c08b0d3a04e1",
        "executionInfo": {
          "status": "ok",
          "timestamp": 1529166398157,
          "user_tz": 300,
          "elapsed": 269,
          "user": {
            "displayName": "Bhaskar Dutta",
            "photoUrl": "//lh3.googleusercontent.com/-j61mCPFpWjA/AAAAAAAAAAI/AAAAAAAACOk/xDutwS9Ks2I/s50-c-k-no/photo.jpg",
            "userId": "102593416601078579352"
          }
        }
      },
      "cell_type": "code",
      "source": [
        "out_df"
      ],
      "execution_count": 16,
      "outputs": [
        {
          "output_type": "execute_result",
          "data": {
            "text/html": [
              "<div>\n",
              "<style scoped>\n",
              "    .dataframe tbody tr th:only-of-type {\n",
              "        vertical-align: middle;\n",
              "    }\n",
              "\n",
              "    .dataframe tbody tr th {\n",
              "        vertical-align: top;\n",
              "    }\n",
              "\n",
              "    .dataframe thead th {\n",
              "        text-align: right;\n",
              "    }\n",
              "</style>\n",
              "<table border=\"1\" class=\"dataframe\">\n",
              "  <thead>\n",
              "    <tr style=\"text-align: right;\">\n",
              "      <th></th>\n",
              "      <th>added_products</th>\n",
              "      <th>ncodpers</th>\n",
              "    </tr>\n",
              "  </thead>\n",
              "  <tbody>\n",
              "    <tr>\n",
              "      <th>0</th>\n",
              "      <td>ind_recibo_ult1 ind_reca_fin_ult1 ind_ctop_fin...</td>\n",
              "      <td>15889</td>\n",
              "    </tr>\n",
              "    <tr>\n",
              "      <th>1</th>\n",
              "      <td>ind_recibo_ult1 ind_reca_fin_ult1 ind_nom_pens...</td>\n",
              "      <td>1170544</td>\n",
              "    </tr>\n",
              "    <tr>\n",
              "      <th>2</th>\n",
              "      <td>ind_recibo_ult1 ind_nom_pens_ult1 ind_nomina_u...</td>\n",
              "      <td>1170545</td>\n",
              "    </tr>\n",
              "    <tr>\n",
              "      <th>3</th>\n",
              "      <td>ind_recibo_ult1 ind_reca_fin_ult1 ind_nom_pens...</td>\n",
              "      <td>1170547</td>\n",
              "    </tr>\n",
              "    <tr>\n",
              "      <th>4</th>\n",
              "      <td>ind_recibo_ult1 ind_reca_fin_ult1 ind_nom_pens...</td>\n",
              "      <td>1170548</td>\n",
              "    </tr>\n",
              "    <tr>\n",
              "      <th>5</th>\n",
              "      <td>ind_recibo_ult1 ind_reca_fin_ult1 ind_nom_pens...</td>\n",
              "      <td>1170550</td>\n",
              "    </tr>\n",
              "    <tr>\n",
              "      <th>6</th>\n",
              "      <td>ind_tjcr_fin_ult1 ind_nom_pens_ult1 ind_cno_fi...</td>\n",
              "      <td>1170552</td>\n",
              "    </tr>\n",
              "    <tr>\n",
              "      <th>7</th>\n",
              "      <td>ind_recibo_ult1 ind_reca_fin_ult1 ind_nom_pens...</td>\n",
              "      <td>1170553</td>\n",
              "    </tr>\n",
              "    <tr>\n",
              "      <th>8</th>\n",
              "      <td>ind_recibo_ult1 ind_reca_fin_ult1 ind_nom_pens...</td>\n",
              "      <td>1170555</td>\n",
              "    </tr>\n",
              "    <tr>\n",
              "      <th>9</th>\n",
              "      <td>ind_recibo_ult1 ind_nom_pens_ult1 ind_nomina_u...</td>\n",
              "      <td>1170557</td>\n",
              "    </tr>\n",
              "    <tr>\n",
              "      <th>10</th>\n",
              "      <td>ind_cco_fin_ult1 ind_recibo_ult1 ind_cno_fin_u...</td>\n",
              "      <td>1170559</td>\n",
              "    </tr>\n",
              "    <tr>\n",
              "      <th>11</th>\n",
              "      <td>ind_recibo_ult1 ind_reca_fin_ult1 ind_nom_pens...</td>\n",
              "      <td>1170563</td>\n",
              "    </tr>\n",
              "    <tr>\n",
              "      <th>12</th>\n",
              "      <td>ind_cco_fin_ult1 ind_recibo_ult1 ind_nom_pens_...</td>\n",
              "      <td>1170542</td>\n",
              "    </tr>\n",
              "    <tr>\n",
              "      <th>13</th>\n",
              "      <td>ind_recibo_ult1 ind_reca_fin_ult1 ind_nom_pens...</td>\n",
              "      <td>1170565</td>\n",
              "    </tr>\n",
              "    <tr>\n",
              "      <th>14</th>\n",
              "      <td>ind_cco_fin_ult1 ind_recibo_ult1 ind_nom_pens_...</td>\n",
              "      <td>1170568</td>\n",
              "    </tr>\n",
              "    <tr>\n",
              "      <th>15</th>\n",
              "      <td>ind_cco_fin_ult1 ind_nom_pens_ult1 ind_nomina_...</td>\n",
              "      <td>1170570</td>\n",
              "    </tr>\n",
              "    <tr>\n",
              "      <th>16</th>\n",
              "      <td>ind_recibo_ult1 ind_reca_fin_ult1 ind_nom_pens...</td>\n",
              "      <td>1170576</td>\n",
              "    </tr>\n",
              "    <tr>\n",
              "      <th>17</th>\n",
              "      <td>ind_cco_fin_ult1 ind_recibo_ult1 ind_tjcr_fin_...</td>\n",
              "      <td>1170578</td>\n",
              "    </tr>\n",
              "    <tr>\n",
              "      <th>18</th>\n",
              "      <td>ind_nom_pens_ult1 ind_nomina_ult1 ind_cno_fin_...</td>\n",
              "      <td>1170579</td>\n",
              "    </tr>\n",
              "    <tr>\n",
              "      <th>19</th>\n",
              "      <td>ind_recibo_ult1 ind_reca_fin_ult1 ind_cno_fin_...</td>\n",
              "      <td>1170581</td>\n",
              "    </tr>\n",
              "    <tr>\n",
              "      <th>20</th>\n",
              "      <td>ind_recibo_ult1 ind_nom_pens_ult1 ind_nomina_u...</td>\n",
              "      <td>1170583</td>\n",
              "    </tr>\n",
              "    <tr>\n",
              "      <th>21</th>\n",
              "      <td>ind_recibo_ult1 ind_reca_fin_ult1 ind_nom_pens...</td>\n",
              "      <td>1170585</td>\n",
              "    </tr>\n",
              "    <tr>\n",
              "      <th>22</th>\n",
              "      <td>ind_recibo_ult1 ind_nom_pens_ult1 ind_nomina_u...</td>\n",
              "      <td>1170587</td>\n",
              "    </tr>\n",
              "    <tr>\n",
              "      <th>23</th>\n",
              "      <td>ind_nom_pens_ult1 ind_nomina_ult1 ind_cno_fin_...</td>\n",
              "      <td>1170588</td>\n",
              "    </tr>\n",
              "    <tr>\n",
              "      <th>24</th>\n",
              "      <td>ind_recibo_ult1 ind_reca_fin_ult1 ind_cno_fin_...</td>\n",
              "      <td>1170589</td>\n",
              "    </tr>\n",
              "    <tr>\n",
              "      <th>25</th>\n",
              "      <td>ind_recibo_ult1 ind_reca_fin_ult1 ind_nom_pens...</td>\n",
              "      <td>1170567</td>\n",
              "    </tr>\n",
              "    <tr>\n",
              "      <th>26</th>\n",
              "      <td>ind_recibo_ult1 ind_reca_fin_ult1 ind_tjcr_fin...</td>\n",
              "      <td>1170541</td>\n",
              "    </tr>\n",
              "    <tr>\n",
              "      <th>27</th>\n",
              "      <td>ind_recibo_ult1 ind_nom_pens_ult1 ind_cno_fin_...</td>\n",
              "      <td>1170539</td>\n",
              "    </tr>\n",
              "    <tr>\n",
              "      <th>28</th>\n",
              "      <td>ind_recibo_ult1 ind_reca_fin_ult1 ind_nom_pens...</td>\n",
              "      <td>1170538</td>\n",
              "    </tr>\n",
              "    <tr>\n",
              "      <th>29</th>\n",
              "      <td>ind_cco_fin_ult1 ind_nom_pens_ult1 ind_nomina_...</td>\n",
              "      <td>1170493</td>\n",
              "    </tr>\n",
              "    <tr>\n",
              "      <th>...</th>\n",
              "      <td>...</td>\n",
              "      <td>...</td>\n",
              "    </tr>\n",
              "    <tr>\n",
              "      <th>929585</th>\n",
              "      <td>ind_cco_fin_ult1 ind_recibo_ult1 ind_tjcr_fin_...</td>\n",
              "      <td>660255</td>\n",
              "    </tr>\n",
              "    <tr>\n",
              "      <th>929586</th>\n",
              "      <td>ind_recibo_ult1 ind_tjcr_fin_ult1 ind_reca_fin...</td>\n",
              "      <td>659581</td>\n",
              "    </tr>\n",
              "    <tr>\n",
              "      <th>929587</th>\n",
              "      <td>ind_recibo_ult1 ind_reca_fin_ult1 ind_ecue_fin...</td>\n",
              "      <td>660253</td>\n",
              "    </tr>\n",
              "    <tr>\n",
              "      <th>929588</th>\n",
              "      <td>ind_nom_pens_ult1 ind_nomina_ult1 ind_cco_fin_...</td>\n",
              "      <td>660244</td>\n",
              "    </tr>\n",
              "    <tr>\n",
              "      <th>929589</th>\n",
              "      <td>ind_recibo_ult1 ind_tjcr_fin_ult1 ind_reca_fin...</td>\n",
              "      <td>660181</td>\n",
              "    </tr>\n",
              "    <tr>\n",
              "      <th>929590</th>\n",
              "      <td>ind_cco_fin_ult1 ind_tjcr_fin_ult1 ind_recibo_...</td>\n",
              "      <td>660185</td>\n",
              "    </tr>\n",
              "    <tr>\n",
              "      <th>929591</th>\n",
              "      <td>ind_cco_fin_ult1 ind_tjcr_fin_ult1 ind_recibo_...</td>\n",
              "      <td>660186</td>\n",
              "    </tr>\n",
              "    <tr>\n",
              "      <th>929592</th>\n",
              "      <td>ind_cco_fin_ult1 ind_tjcr_fin_ult1 ind_recibo_...</td>\n",
              "      <td>660188</td>\n",
              "    </tr>\n",
              "    <tr>\n",
              "      <th>929593</th>\n",
              "      <td>ind_recibo_ult1 ind_tjcr_fin_ult1 ind_dela_fin...</td>\n",
              "      <td>660189</td>\n",
              "    </tr>\n",
              "    <tr>\n",
              "      <th>929594</th>\n",
              "      <td>ind_cco_fin_ult1 ind_tjcr_fin_ult1 ind_recibo_...</td>\n",
              "      <td>660190</td>\n",
              "    </tr>\n",
              "    <tr>\n",
              "      <th>929595</th>\n",
              "      <td>ind_cco_fin_ult1 ind_tjcr_fin_ult1 ind_recibo_...</td>\n",
              "      <td>660191</td>\n",
              "    </tr>\n",
              "    <tr>\n",
              "      <th>929596</th>\n",
              "      <td>ind_tjcr_fin_ult1 ind_nom_pens_ult1 ind_nomina...</td>\n",
              "      <td>660193</td>\n",
              "    </tr>\n",
              "    <tr>\n",
              "      <th>929597</th>\n",
              "      <td>ind_recibo_ult1 ind_tjcr_fin_ult1 ind_nomina_u...</td>\n",
              "      <td>660194</td>\n",
              "    </tr>\n",
              "    <tr>\n",
              "      <th>929598</th>\n",
              "      <td>ind_cco_fin_ult1 ind_tjcr_fin_ult1 ind_recibo_...</td>\n",
              "      <td>660195</td>\n",
              "    </tr>\n",
              "    <tr>\n",
              "      <th>929599</th>\n",
              "      <td>ind_cco_fin_ult1 ind_tjcr_fin_ult1 ind_recibo_...</td>\n",
              "      <td>660197</td>\n",
              "    </tr>\n",
              "    <tr>\n",
              "      <th>929600</th>\n",
              "      <td>ind_cco_fin_ult1 ind_tjcr_fin_ult1 ind_recibo_...</td>\n",
              "      <td>660198</td>\n",
              "    </tr>\n",
              "    <tr>\n",
              "      <th>929601</th>\n",
              "      <td>ind_cco_fin_ult1 ind_ctop_fin_ult1 ind_tjcr_fi...</td>\n",
              "      <td>660208</td>\n",
              "    </tr>\n",
              "    <tr>\n",
              "      <th>929602</th>\n",
              "      <td>ind_cco_fin_ult1 ind_tjcr_fin_ult1 ind_recibo_...</td>\n",
              "      <td>660212</td>\n",
              "    </tr>\n",
              "    <tr>\n",
              "      <th>929603</th>\n",
              "      <td>ind_tjcr_fin_ult1 ind_reca_fin_ult1 ind_nom_pe...</td>\n",
              "      <td>660213</td>\n",
              "    </tr>\n",
              "    <tr>\n",
              "      <th>929604</th>\n",
              "      <td>ind_cco_fin_ult1 ind_recibo_ult1 ind_tjcr_fin_...</td>\n",
              "      <td>660217</td>\n",
              "    </tr>\n",
              "    <tr>\n",
              "      <th>929605</th>\n",
              "      <td>ind_recibo_ult1 ind_ecue_fin_ult1 ind_nom_pens...</td>\n",
              "      <td>660223</td>\n",
              "    </tr>\n",
              "    <tr>\n",
              "      <th>929606</th>\n",
              "      <td>ind_reca_fin_ult1 ind_cco_fin_ult1 ind_dela_fi...</td>\n",
              "      <td>660224</td>\n",
              "    </tr>\n",
              "    <tr>\n",
              "      <th>929607</th>\n",
              "      <td>ind_recibo_ult1 ind_reca_fin_ult1 ind_tjcr_fin...</td>\n",
              "      <td>660225</td>\n",
              "    </tr>\n",
              "    <tr>\n",
              "      <th>929608</th>\n",
              "      <td>ind_cco_fin_ult1 ind_recibo_ult1 ind_tjcr_fin_...</td>\n",
              "      <td>660231</td>\n",
              "    </tr>\n",
              "    <tr>\n",
              "      <th>929609</th>\n",
              "      <td>ind_tjcr_fin_ult1 ind_nomina_ult1 ind_nom_pens...</td>\n",
              "      <td>660235</td>\n",
              "    </tr>\n",
              "    <tr>\n",
              "      <th>929610</th>\n",
              "      <td>ind_tjcr_fin_ult1 ind_reca_fin_ult1 ind_dela_f...</td>\n",
              "      <td>660237</td>\n",
              "    </tr>\n",
              "    <tr>\n",
              "      <th>929611</th>\n",
              "      <td>ind_cco_fin_ult1 ind_recibo_ult1 ind_tjcr_fin_...</td>\n",
              "      <td>660238</td>\n",
              "    </tr>\n",
              "    <tr>\n",
              "      <th>929612</th>\n",
              "      <td>ind_recibo_ult1 ind_tjcr_fin_ult1 ind_dela_fin...</td>\n",
              "      <td>660240</td>\n",
              "    </tr>\n",
              "    <tr>\n",
              "      <th>929613</th>\n",
              "      <td>ind_recibo_ult1 ind_tjcr_fin_ult1 ind_reca_fin...</td>\n",
              "      <td>660243</td>\n",
              "    </tr>\n",
              "    <tr>\n",
              "      <th>929614</th>\n",
              "      <td>ind_cco_fin_ult1 ind_recibo_ult1 ind_ecue_fin_...</td>\n",
              "      <td>660248</td>\n",
              "    </tr>\n",
              "  </tbody>\n",
              "</table>\n",
              "<p>929615 rows × 2 columns</p>\n",
              "</div>"
            ],
            "text/plain": [
              "                                           added_products  ncodpers\n",
              "0       ind_recibo_ult1 ind_reca_fin_ult1 ind_ctop_fin...     15889\n",
              "1       ind_recibo_ult1 ind_reca_fin_ult1 ind_nom_pens...   1170544\n",
              "2       ind_recibo_ult1 ind_nom_pens_ult1 ind_nomina_u...   1170545\n",
              "3       ind_recibo_ult1 ind_reca_fin_ult1 ind_nom_pens...   1170547\n",
              "4       ind_recibo_ult1 ind_reca_fin_ult1 ind_nom_pens...   1170548\n",
              "5       ind_recibo_ult1 ind_reca_fin_ult1 ind_nom_pens...   1170550\n",
              "6       ind_tjcr_fin_ult1 ind_nom_pens_ult1 ind_cno_fi...   1170552\n",
              "7       ind_recibo_ult1 ind_reca_fin_ult1 ind_nom_pens...   1170553\n",
              "8       ind_recibo_ult1 ind_reca_fin_ult1 ind_nom_pens...   1170555\n",
              "9       ind_recibo_ult1 ind_nom_pens_ult1 ind_nomina_u...   1170557\n",
              "10      ind_cco_fin_ult1 ind_recibo_ult1 ind_cno_fin_u...   1170559\n",
              "11      ind_recibo_ult1 ind_reca_fin_ult1 ind_nom_pens...   1170563\n",
              "12      ind_cco_fin_ult1 ind_recibo_ult1 ind_nom_pens_...   1170542\n",
              "13      ind_recibo_ult1 ind_reca_fin_ult1 ind_nom_pens...   1170565\n",
              "14      ind_cco_fin_ult1 ind_recibo_ult1 ind_nom_pens_...   1170568\n",
              "15      ind_cco_fin_ult1 ind_nom_pens_ult1 ind_nomina_...   1170570\n",
              "16      ind_recibo_ult1 ind_reca_fin_ult1 ind_nom_pens...   1170576\n",
              "17      ind_cco_fin_ult1 ind_recibo_ult1 ind_tjcr_fin_...   1170578\n",
              "18      ind_nom_pens_ult1 ind_nomina_ult1 ind_cno_fin_...   1170579\n",
              "19      ind_recibo_ult1 ind_reca_fin_ult1 ind_cno_fin_...   1170581\n",
              "20      ind_recibo_ult1 ind_nom_pens_ult1 ind_nomina_u...   1170583\n",
              "21      ind_recibo_ult1 ind_reca_fin_ult1 ind_nom_pens...   1170585\n",
              "22      ind_recibo_ult1 ind_nom_pens_ult1 ind_nomina_u...   1170587\n",
              "23      ind_nom_pens_ult1 ind_nomina_ult1 ind_cno_fin_...   1170588\n",
              "24      ind_recibo_ult1 ind_reca_fin_ult1 ind_cno_fin_...   1170589\n",
              "25      ind_recibo_ult1 ind_reca_fin_ult1 ind_nom_pens...   1170567\n",
              "26      ind_recibo_ult1 ind_reca_fin_ult1 ind_tjcr_fin...   1170541\n",
              "27      ind_recibo_ult1 ind_nom_pens_ult1 ind_cno_fin_...   1170539\n",
              "28      ind_recibo_ult1 ind_reca_fin_ult1 ind_nom_pens...   1170538\n",
              "29      ind_cco_fin_ult1 ind_nom_pens_ult1 ind_nomina_...   1170493\n",
              "...                                                   ...       ...\n",
              "929585  ind_cco_fin_ult1 ind_recibo_ult1 ind_tjcr_fin_...    660255\n",
              "929586  ind_recibo_ult1 ind_tjcr_fin_ult1 ind_reca_fin...    659581\n",
              "929587  ind_recibo_ult1 ind_reca_fin_ult1 ind_ecue_fin...    660253\n",
              "929588  ind_nom_pens_ult1 ind_nomina_ult1 ind_cco_fin_...    660244\n",
              "929589  ind_recibo_ult1 ind_tjcr_fin_ult1 ind_reca_fin...    660181\n",
              "929590  ind_cco_fin_ult1 ind_tjcr_fin_ult1 ind_recibo_...    660185\n",
              "929591  ind_cco_fin_ult1 ind_tjcr_fin_ult1 ind_recibo_...    660186\n",
              "929592  ind_cco_fin_ult1 ind_tjcr_fin_ult1 ind_recibo_...    660188\n",
              "929593  ind_recibo_ult1 ind_tjcr_fin_ult1 ind_dela_fin...    660189\n",
              "929594  ind_cco_fin_ult1 ind_tjcr_fin_ult1 ind_recibo_...    660190\n",
              "929595  ind_cco_fin_ult1 ind_tjcr_fin_ult1 ind_recibo_...    660191\n",
              "929596  ind_tjcr_fin_ult1 ind_nom_pens_ult1 ind_nomina...    660193\n",
              "929597  ind_recibo_ult1 ind_tjcr_fin_ult1 ind_nomina_u...    660194\n",
              "929598  ind_cco_fin_ult1 ind_tjcr_fin_ult1 ind_recibo_...    660195\n",
              "929599  ind_cco_fin_ult1 ind_tjcr_fin_ult1 ind_recibo_...    660197\n",
              "929600  ind_cco_fin_ult1 ind_tjcr_fin_ult1 ind_recibo_...    660198\n",
              "929601  ind_cco_fin_ult1 ind_ctop_fin_ult1 ind_tjcr_fi...    660208\n",
              "929602  ind_cco_fin_ult1 ind_tjcr_fin_ult1 ind_recibo_...    660212\n",
              "929603  ind_tjcr_fin_ult1 ind_reca_fin_ult1 ind_nom_pe...    660213\n",
              "929604  ind_cco_fin_ult1 ind_recibo_ult1 ind_tjcr_fin_...    660217\n",
              "929605  ind_recibo_ult1 ind_ecue_fin_ult1 ind_nom_pens...    660223\n",
              "929606  ind_reca_fin_ult1 ind_cco_fin_ult1 ind_dela_fi...    660224\n",
              "929607  ind_recibo_ult1 ind_reca_fin_ult1 ind_tjcr_fin...    660225\n",
              "929608  ind_cco_fin_ult1 ind_recibo_ult1 ind_tjcr_fin_...    660231\n",
              "929609  ind_tjcr_fin_ult1 ind_nomina_ult1 ind_nom_pens...    660235\n",
              "929610  ind_tjcr_fin_ult1 ind_reca_fin_ult1 ind_dela_f...    660237\n",
              "929611  ind_cco_fin_ult1 ind_recibo_ult1 ind_tjcr_fin_...    660238\n",
              "929612  ind_recibo_ult1 ind_tjcr_fin_ult1 ind_dela_fin...    660240\n",
              "929613  ind_recibo_ult1 ind_tjcr_fin_ult1 ind_reca_fin...    660243\n",
              "929614  ind_cco_fin_ult1 ind_recibo_ult1 ind_ecue_fin_...    660248\n",
              "\n",
              "[929615 rows x 2 columns]"
            ]
          },
          "metadata": {
            "tags": []
          },
          "execution_count": 16
        }
      ]
    }
  ]
}