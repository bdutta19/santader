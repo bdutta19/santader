{
 "cells": [
  {
   "cell_type": "code",
   "execution_count": 1,
   "metadata": {},
   "outputs": [
    {
     "name": "stdout",
     "output_type": "stream",
     "text": [
      "Populating the interactive namespace from numpy and matplotlib\n"
     ]
    }
   ],
   "source": [
    "import pandas as pd\n",
    "import numpy as np\n",
    "\n",
    "import seaborn as sns\n",
    "import matplotlib.pyplot as plt\n",
    "\n",
    "%pylab inline"
   ]
  },
  {
   "cell_type": "code",
   "execution_count": 38,
   "metadata": {},
   "outputs": [],
   "source": [
    "#sant_file = \"train_ver2.csv\"\n",
    "#outfile = \"train_clean.csv\"\n",
    "\n",
    "sant_file = \"test_ver2.csv\"\n",
    "outfile = \"test_clean.csv\"\n"
   ]
  },
  {
   "cell_type": "code",
   "execution_count": 39,
   "metadata": {
    "scrolled": true
   },
   "outputs": [
    {
     "name": "stderr",
     "output_type": "stream",
     "text": [
      "/Users/bhaskar.dutta/tensorflow/lib/python2.7/site-packages/IPython/core/interactiveshell.py:2718: DtypeWarning: Columns (15) have mixed types. Specify dtype option on import or set low_memory=False.\n",
      "  interactivity=interactivity, compiler=compiler, result=result)\n"
     ]
    }
   ],
   "source": [
    "df = pd.read_csv(sant_file)"
   ]
  },
  {
   "cell_type": "code",
   "execution_count": 40,
   "metadata": {},
   "outputs": [
    {
     "name": "stdout",
     "output_type": "stream",
     "text": [
      "(1, 'fecha_dato')\n",
      "(2, 'ncodpers')\n",
      "(3, 'ind_empleado')\n",
      "(4, 'pais_residencia')\n",
      "(5, 'sexo')\n",
      "(6, 'age')\n",
      "(7, 'fecha_alta')\n",
      "(8, 'ind_nuevo')\n",
      "(9, 'antiguedad')\n",
      "(10, 'indrel')\n",
      "(11, 'ult_fec_cli_1t')\n",
      "(12, 'indrel_1mes')\n",
      "(13, 'tiprel_1mes')\n",
      "(14, 'indresi')\n",
      "(15, 'indext')\n",
      "(16, 'conyuemp')\n",
      "(17, 'canal_entrada')\n",
      "(18, 'indfall')\n",
      "(19, 'tipodom')\n",
      "(20, 'cod_prov')\n",
      "(21, 'nomprov')\n",
      "(22, 'ind_actividad_cliente')\n",
      "(23, 'renta')\n",
      "(24, 'segmento')\n"
     ]
    }
   ],
   "source": [
    "idx_=1\n",
    "for col_ in df.columns:\n",
    "    print (idx_,col_)\n",
    "    idx_+=1"
   ]
  },
  {
   "cell_type": "markdown",
   "metadata": {},
   "source": [
    "#### Get unique customers "
   ]
  },
  {
   "cell_type": "code",
   "execution_count": 41,
   "metadata": {},
   "outputs": [
    {
     "name": "stdout",
     "output_type": "stream",
     "text": [
      "('total records :', 929615)\n",
      "('Unique customers : ', 929615)\n"
     ]
    }
   ],
   "source": [
    "print( \"total records :\" ,df[\"ncodpers\"].count())\n",
    "print(\"Unique customers : \" ,len(df[\"ncodpers\"].unique()))"
   ]
  },
  {
   "cell_type": "markdown",
   "metadata": {},
   "source": [
    "### Find all the rows that are null across the dataset"
   ]
  },
  {
   "cell_type": "code",
   "execution_count": 42,
   "metadata": {},
   "outputs": [
    {
     "data": {
      "text/plain": [
       "fecha_dato                    0\n",
       "ncodpers                      0\n",
       "ind_empleado                  0\n",
       "pais_residencia               0\n",
       "sexo                          5\n",
       "age                           0\n",
       "fecha_alta                    0\n",
       "ind_nuevo                     0\n",
       "antiguedad                    0\n",
       "indrel                        0\n",
       "ult_fec_cli_1t           927932\n",
       "indrel_1mes                  23\n",
       "tiprel_1mes                  23\n",
       "indresi                       0\n",
       "indext                        0\n",
       "conyuemp                 929511\n",
       "canal_entrada              2081\n",
       "indfall                       0\n",
       "tipodom                       0\n",
       "cod_prov                   3996\n",
       "nomprov                    3996\n",
       "ind_actividad_cliente         0\n",
       "renta                         0\n",
       "segmento                   2248\n",
       "dtype: int64"
      ]
     },
     "execution_count": 42,
     "metadata": {},
     "output_type": "execute_result"
    }
   ],
   "source": [
    "df.isnull().sum()"
   ]
  },
  {
   "cell_type": "markdown",
   "metadata": {},
   "source": [
    "##### ult_fec_cli_it and conyuemp are almost all null, hence take them off from the dataset"
   ]
  },
  {
   "cell_type": "code",
   "execution_count": 43,
   "metadata": {},
   "outputs": [],
   "source": [
    "df = df.drop([\"ult_fec_cli_1t\", \"conyuemp\"], axis=1) "
   ]
  },
  {
   "cell_type": "markdown",
   "metadata": {},
   "source": [
    "### Now lets fill in missing values, but first convert obviously numeric data"
   ]
  },
  {
   "cell_type": "code",
   "execution_count": 44,
   "metadata": {},
   "outputs": [],
   "source": [
    "df[\"age\"]   = pd.to_numeric(df[\"age\"], errors=\"coerce\") \n",
    "df[\"antiguedad\"]   = pd.to_numeric(df[\"antiguedad\"], errors=\"coerce\") \n",
    "df[\"renta\"] = pd.to_numeric(df[\"renta\"],errors=\"coerce\")"
   ]
  },
  {
   "cell_type": "markdown",
   "metadata": {},
   "source": [
    "###### indrel_1mes has unique values 1,2,3,4 and nan. Following is from documentation\n",
    "Customer type at the beginning of the month ,1 (First/Primary customer), 2 (co-owner ),P (Potential),3 (former primary), 4(former co-owner)\n",
    "Hence assuming nan is 'P' and assign it value 5"
   ]
  },
  {
   "cell_type": "code",
   "execution_count": 45,
   "metadata": {},
   "outputs": [
    {
     "data": {
      "text/plain": [
       "array([ 1.,  3., nan])"
      ]
     },
     "execution_count": 45,
     "metadata": {},
     "output_type": "execute_result"
    }
   ],
   "source": [
    "df[\"indrel_1mes\"].unique()"
   ]
  },
  {
   "cell_type": "code",
   "execution_count": 46,
   "metadata": {},
   "outputs": [],
   "source": [
    "df[\"indrel_1mes\"]   = pd.to_numeric(df[\"indrel_1mes\"], errors=\"coerce\") \n",
    "\n",
    "df.loc[df.indrel_1mes.isnull(),\"indrel_1mes\"] = 5.0"
   ]
  },
  {
   "cell_type": "code",
   "execution_count": 47,
   "metadata": {},
   "outputs": [
    {
     "data": {
      "text/plain": [
       "array([1., 3., 5.])"
      ]
     },
     "execution_count": 47,
     "metadata": {},
     "output_type": "execute_result"
    }
   ],
   "source": [
    "#verify\n",
    "df[\"indrel_1mes\"].unique()"
   ]
  },
  {
   "cell_type": "code",
   "execution_count": 48,
   "metadata": {
    "scrolled": true
   },
   "outputs": [
    {
     "data": {
      "text/plain": [
       "1.0    929565\n",
       "3.0        27\n",
       "5.0        23\n",
       "Name: indrel_1mes, dtype: int64"
      ]
     },
     "execution_count": 48,
     "metadata": {},
     "output_type": "execute_result"
    }
   ],
   "source": [
    "df[\"indrel_1mes\"].value_counts()"
   ]
  },
  {
   "cell_type": "markdown",
   "metadata": {},
   "source": [
    "###### Renta :  Backfill null values with a global mean. \n",
    "A better solution would to backfill with a per province and age conditioned"
   ]
  },
  {
   "cell_type": "code",
   "execution_count": 49,
   "metadata": {},
   "outputs": [],
   "source": [
    "df.loc[df.renta.isnull() ,\"renta\"] = np.mean(df.loc[df.renta.notnull() ,\"renta\"].values)"
   ]
  },
  {
   "cell_type": "code",
   "execution_count": 50,
   "metadata": {},
   "outputs": [
    {
     "data": {
      "text/plain": [
       "array([], dtype=float64)"
      ]
     },
     "execution_count": 50,
     "metadata": {},
     "output_type": "execute_result"
    }
   ],
   "source": [
    "# verify\n",
    "df.loc[df.renta.isnull() ,\"renta\"].values"
   ]
  },
  {
   "cell_type": "markdown",
   "metadata": {},
   "source": [
    "#### Antiguedad : clean obvious senority issues\n",
    "set values < 0 to be 0"
   ]
  },
  {
   "cell_type": "code",
   "execution_count": 51,
   "metadata": {},
   "outputs": [],
   "source": [
    "df[df[\"antiguedad\"] < 0] = 0"
   ]
  },
  {
   "cell_type": "code",
   "execution_count": 52,
   "metadata": {
    "scrolled": false
   },
   "outputs": [
    {
     "data": {
      "text/plain": [
       "8      26335\n",
       "32     23415\n",
       "9      22972\n",
       "20     21108\n",
       "11     20420\n",
       "44     18531\n",
       "21     17923\n",
       "56     16238\n",
       "23     15940\n",
       "34     15559\n",
       "19     15137\n",
       "55     14530\n",
       "43     13959\n",
       "7      13932\n",
       "46     13587\n",
       "47     13434\n",
       "45     13428\n",
       "31     13225\n",
       "33     12710\n",
       "57     12156\n",
       "35     11379\n",
       "22      9970\n",
       "10      9944\n",
       "58      9489\n",
       "54      9369\n",
       "18      8625\n",
       "59      7047\n",
       "5       6762\n",
       "175     6244\n",
       "4       6124\n",
       "       ...  \n",
       "235      846\n",
       "84       806\n",
       "229      800\n",
       "230      800\n",
       "225      772\n",
       "245      761\n",
       "78       760\n",
       "246      722\n",
       "240      711\n",
       "239      706\n",
       "85       702\n",
       "86       674\n",
       "226      668\n",
       "249      631\n",
       "243      604\n",
       "247      599\n",
       "214      542\n",
       "244      512\n",
       "241      504\n",
       "237      459\n",
       "252      443\n",
       "251      419\n",
       "238      325\n",
       "253      244\n",
       "250      191\n",
       "254      152\n",
       "0        132\n",
       "257      102\n",
       "255       84\n",
       "256       77\n",
       "Name: antiguedad, Length: 258, dtype: int64"
      ]
     },
     "execution_count": 52,
     "metadata": {},
     "output_type": "execute_result"
    }
   ],
   "source": [
    "df[\"antiguedad\"].value_counts()"
   ]
  },
  {
   "cell_type": "code",
   "execution_count": 53,
   "metadata": {},
   "outputs": [
    {
     "data": {
      "text/plain": [
       "<matplotlib.axes._subplots.AxesSubplot at 0x11a5d4290>"
      ]
     },
     "execution_count": 53,
     "metadata": {},
     "output_type": "execute_result"
    },
    {
     "data": {
      "image/png": "[encoded data removed]",
      "text/plain": [
       "<matplotlib.figure.Figure at 0x139d04cd0>"
      ]
     },
     "metadata": {},
     "output_type": "display_data"
    }
   ],
   "source": [
    "df['antiguedad'].hist(bins=10)"
   ]
  },
  {
   "cell_type": "markdown",
   "metadata": {},
   "source": [
    "#### Age : age \n",
    "Mean customer age is 40 . Backfill nulls with mean\n",
    "Truncate age > 100 as 100"
   ]
  },
  {
   "cell_type": "code",
   "execution_count": 54,
   "metadata": {},
   "outputs": [
    {
     "data": {
      "text/plain": [
       "count    929615.000000\n",
       "mean         40.249653\n",
       "std          17.185244\n",
       "min           0.000000\n",
       "25%          25.000000\n",
       "50%          39.000000\n",
       "75%          51.000000\n",
       "max         164.000000\n",
       "Name: age, dtype: float64"
      ]
     },
     "execution_count": 54,
     "metadata": {},
     "output_type": "execute_result"
    }
   ],
   "source": [
    "df[\"age\"].describe()"
   ]
  },
  {
   "cell_type": "code",
   "execution_count": 55,
   "metadata": {},
   "outputs": [],
   "source": [
    "df.loc[df.age.isnull() ,\"age\"] = 40"
   ]
  },
  {
   "cell_type": "code",
   "execution_count": 56,
   "metadata": {},
   "outputs": [],
   "source": [
    "df[df[\"age\"] > 100] = 100"
   ]
  },
  {
   "cell_type": "code",
   "execution_count": 57,
   "metadata": {
    "scrolled": true
   },
   "outputs": [
    {
     "data": {
      "text/plain": [
       "<matplotlib.axes._subplots.AxesSubplot at 0x17eaaf7d0>"
      ]
     },
     "execution_count": 57,
     "metadata": {},
     "output_type": "execute_result"
    },
    {
     "data": {
      "image/png": "[encoded data removed]",
      "text/plain": [
       "<matplotlib.figure.Figure at 0x15dba0810>"
      ]
     },
     "metadata": {},
     "output_type": "display_data"
    }
   ],
   "source": [
    "df['age'].hist(bins=50)"
   ]
  },
  {
   "cell_type": "markdown",
   "metadata": {},
   "source": [
    "###### Pais_residencia :\n",
    "Majority of data is from province ES. might help to remove values from others since data is highly imbalanced\n"
   ]
  },
  {
   "cell_type": "code",
   "execution_count": 58,
   "metadata": {
    "scrolled": false
   },
   "outputs": [
    {
     "data": {
      "text/plain": [
       "count     929615\n",
       "unique       120\n",
       "top           ES\n",
       "freq      924626\n",
       "Name: pais_residencia, dtype: object"
      ]
     },
     "execution_count": 58,
     "metadata": {},
     "output_type": "execute_result"
    }
   ],
   "source": [
    "df['pais_residencia'].describe() "
   ]
  },
  {
   "cell_type": "markdown",
   "metadata": {},
   "source": [
    "##### Indresi : Residence index S if residence country is same as bank or N\n",
    "Majority is S .."
   ]
  },
  {
   "cell_type": "code",
   "execution_count": 59,
   "metadata": {
    "scrolled": true
   },
   "outputs": [
    {
     "data": {
      "text/plain": [
       "S      924627\n",
       "N        3994\n",
       "100       991\n",
       "0           3\n",
       "Name: indresi, dtype: int64"
      ]
     },
     "execution_count": 59,
     "metadata": {},
     "output_type": "execute_result"
    }
   ],
   "source": [
    "df[\"indresi\"].value_counts()"
   ]
  },
  {
   "cell_type": "markdown",
   "metadata": {},
   "source": [
    "##### indext : Foreigner index S = Yes \n",
    "Majority is S .."
   ]
  },
  {
   "cell_type": "code",
   "execution_count": 60,
   "metadata": {
    "scrolled": false
   },
   "outputs": [
    {
     "data": {
      "text/plain": [
       "N      882558\n",
       "S       46063\n",
       "100       991\n",
       "0           3\n",
       "Name: indext, dtype: int64"
      ]
     },
     "execution_count": 60,
     "metadata": {},
     "output_type": "execute_result"
    }
   ],
   "source": [
    "df[\"indext\"].value_counts()"
   ]
  },
  {
   "cell_type": "code",
   "execution_count": 61,
   "metadata": {
    "scrolled": true
   },
   "outputs": [
    {
     "data": {
      "text/plain": [
       "N      926368\n",
       "S        2253\n",
       "100       991\n",
       "0           3\n",
       "Name: indfall, dtype: int64"
      ]
     },
     "execution_count": 61,
     "metadata": {},
     "output_type": "execute_result"
    }
   ],
   "source": [
    "df[\"indfall\"].value_counts()"
   ]
  },
  {
   "cell_type": "code",
   "execution_count": 62,
   "metadata": {
    "scrolled": true
   },
   "outputs": [
    {
     "data": {
      "text/plain": [
       "02 - PARTICULARES     544439\n",
       "03 - UNIVERSITARIO    346028\n",
       "01 - TOP               35949\n",
       "100                      991\n",
       "0                          3\n",
       "Name: segmento, dtype: int64"
      ]
     },
     "execution_count": 62,
     "metadata": {},
     "output_type": "execute_result"
    }
   ],
   "source": [
    "df[\"segmento\"].value_counts()"
   ]
  },
  {
   "cell_type": "code",
   "execution_count": 63,
   "metadata": {
    "scrolled": false
   },
   "outputs": [
    {
     "data": {
      "text/plain": [
       "N      928102\n",
       "100       991\n",
       "B         218\n",
       "F         152\n",
       "A         148\n",
       "0           3\n",
       "S           1\n",
       "Name: ind_empleado, dtype: int64"
      ]
     },
     "execution_count": 63,
     "metadata": {},
     "output_type": "execute_result"
    }
   ],
   "source": [
    "df[\"ind_empleado\"].value_counts()"
   ]
  },
  {
   "cell_type": "code",
   "execution_count": 64,
   "metadata": {
    "scrolled": true
   },
   "outputs": [
    {
     "data": {
      "text/plain": [
       "V      504137\n",
       "H      424479\n",
       "100       991\n",
       "0           3\n",
       "Name: sexo, dtype: int64"
      ]
     },
     "execution_count": 64,
     "metadata": {},
     "output_type": "execute_result"
    }
   ],
   "source": [
    "df[\"sexo\"].value_counts()"
   ]
  },
  {
   "cell_type": "markdown",
   "metadata": {},
   "source": [
    "###### Seems like same number of rows have 100 and 0 vals hences removing them"
   ]
  },
  {
   "cell_type": "code",
   "execution_count": 65,
   "metadata": {},
   "outputs": [],
   "source": [
    "df_d_ = df.loc[df[\"sexo\"] ==100]\n",
    "df = df.drop(df_d_.index.values)"
   ]
  },
  {
   "cell_type": "code",
   "execution_count": 66,
   "metadata": {},
   "outputs": [],
   "source": [
    "df_d_ = df.loc[df[\"sexo\"] == 0]\n",
    "df = df.drop(df_d_.index.values)"
   ]
  },
  {
   "cell_type": "code",
   "execution_count": 67,
   "metadata": {
    "scrolled": true
   },
   "outputs": [
    {
     "data": {
      "text/plain": [
       "1    928621\n",
       "Name: tipodom, dtype: int64"
      ]
     },
     "execution_count": 67,
     "metadata": {},
     "output_type": "execute_result"
    }
   ],
   "source": [
    "# single value : hence remove\n",
    "df[\"tipodom\"].value_counts()"
   ]
  },
  {
   "cell_type": "code",
   "execution_count": 68,
   "metadata": {},
   "outputs": [],
   "source": [
    "df = df.drop([\"tipodom\"], axis=1) "
   ]
  },
  {
   "cell_type": "code",
   "execution_count": 69,
   "metadata": {
    "scrolled": true
   },
   "outputs": [
    {
     "data": {
      "text/plain": [
       "ES    924626\n",
       "FR       311\n",
       "AR       287\n",
       "GB       286\n",
       "DE       281\n",
       "US       231\n",
       "CO       211\n",
       "IT       179\n",
       "RO       175\n",
       "MX       156\n",
       "BR       141\n",
       "VE       136\n",
       "EC       130\n",
       "CH       124\n",
       "BO        93\n",
       "BE        93\n",
       "PT        90\n",
       "PY        87\n",
       "CL        59\n",
       "PE        54\n",
       "NL        47\n",
       "RU        45\n",
       "CU        44\n",
       "PL        38\n",
       "SE        37\n",
       "CN        33\n",
       "UY        30\n",
       "AT        29\n",
       "UA        29\n",
       "BG        28\n",
       "       ...  \n",
       "MZ         2\n",
       "JM         2\n",
       "CG         2\n",
       "ET         2\n",
       "GW         2\n",
       "OM         2\n",
       "LV         1\n",
       "LY         1\n",
       "MT         1\n",
       "ML         1\n",
       "MM         1\n",
       "KZ         1\n",
       "SL         1\n",
       "TN         1\n",
       "KH         1\n",
       "IS         1\n",
       "GH         1\n",
       "GI         1\n",
       "GM         1\n",
       "GE         1\n",
       "DJ         1\n",
       "CD         1\n",
       "CF         1\n",
       "BZ         1\n",
       "BM         1\n",
       "KW         1\n",
       "AL         1\n",
       "ZW         1\n",
       "TG         1\n",
       "LB         1\n",
       "Name: pais_residencia, Length: 118, dtype: int64"
      ]
     },
     "execution_count": 69,
     "metadata": {},
     "output_type": "execute_result"
    }
   ],
   "source": [
    "df = df.drop(df.loc[df[\"pais_residencia\"].isna(),\"pais_residencia\"].index.values)\n",
    "\n",
    "df[\"pais_residencia\"].value_counts()\n"
   ]
  },
  {
   "cell_type": "code",
   "execution_count": 70,
   "metadata": {},
   "outputs": [],
   "source": [
    "df.to_csv(outfile,index=False)"
   ]
  },
  {
   "cell_type": "code",
   "execution_count": 36,
   "metadata": {},
   "outputs": [
    {
     "data": {
      "text/plain": [
       "array(['H', 'V', nan], dtype=object)"
      ]
     },
     "execution_count": 36,
     "metadata": {},
     "output_type": "execute_result"
    }
   ],
   "source": [
    "df[\"sexo\"].unique()"
   ]
  },
  {
   "cell_type": "code",
   "execution_count": null,
   "metadata": {},
   "outputs": [],
   "source": []
  }
 ],
 "metadata": {
  "kernelspec": {
   "display_name": "Python 2",
   "language": "python",
   "name": "python2"
  },
  "language_info": {
   "codemirror_mode": {
    "name": "ipython",
    "version": 2
   },
   "file_extension": ".py",
   "mimetype": "text/x-python",
   "name": "python",
   "nbconvert_exporter": "python",
   "pygments_lexer": "ipython2",
   "version": "2.7.10"
  }
 },
 "nbformat": 4,
 "nbformat_minor": 2
}
